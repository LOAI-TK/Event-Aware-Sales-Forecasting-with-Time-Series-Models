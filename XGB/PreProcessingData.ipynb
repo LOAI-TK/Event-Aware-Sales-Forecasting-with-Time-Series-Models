{
 "cells": [
  {
   "cell_type": "code",
   "execution_count": 1,
   "id": "72525259-eebd-49bf-b72c-3ee94a268d4b",
   "metadata": {},
   "outputs": [],
   "source": [
    "import pandas as pd\n",
    "from datetime import datetime\n",
    "import sklearn\n",
    "from sklearn.datasets import load_diabetes\n",
    "import seaborn as sns\n",
    "import matplotlib.pyplot as plt"
   ]
  },
  {
   "cell_type": "code",
   "execution_count": 2,
   "id": "8ad5969a-1e30-4e99-b03a-5e6404755e65",
   "metadata": {},
   "outputs": [],
   "source": [
    "df = pd.read_csv('C:/Users/mloai/Event-Aware Sales Forecasting with Time Series Models/sales_marketing.csv')"
   ]
  },
  {
   "cell_type": "code",
   "execution_count": 3,
   "id": "e59dff77-5f5f-4b67-96d9-f893f11a1690",
   "metadata": {},
   "outputs": [],
   "source": [
    "# Step 1: Fix and validate CAL_DATE (Gregorian)\n",
    "df['CAL_DATE'] = pd.to_datetime(df['CAL_DATE'], errors='coerce')  # Converts invalid formats to NaT\n",
    "df = df.dropna(subset=['CAL_DATE'])  # Drop rows where CAL_DATE couldn't be parsed\n",
    "df = df[df['CAL_DATE'] <= pd.to_datetime(datetime.today())]  # Optional: drop future dates"
   ]
  },
  {
   "cell_type": "code",
   "execution_count": 4,
   "id": "5f2ab120-e33a-470b-a4df-e49b03595736",
   "metadata": {},
   "outputs": [],
   "source": [
    "df['Category_Channel'] = df['CATEGORY_CODE'].astype(str) + '_' + df['CHANNEL_NAME']"
   ]
  },
  {
   "cell_type": "code",
   "execution_count": 5,
   "id": "112a9b95-50a1-4709-90e9-1127ebe3b800",
   "metadata": {},
   "outputs": [],
   "source": [
    "# Step 3: Validate HIJRI_DATE (Islamic)\n",
    "df['HIJRI_DATE'] = df['HIJRI_DATE'].astype(str)\n",
    "df = df[df['HIJRI_DATE'].str.len() == 10]\n",
    "\n",
    "# Extract Hijri month and day for tagging holidays\n",
    "df['HIJRI_MONTH'] = df['HIJRI_DATE'].str[5:7]\n",
    "df['HIJRI_DAY'] = df['HIJRI_DATE'].str[8:10]\n",
    "\n",
    "valid_months = [f'{i:02}' for i in range(1, 13)]\n",
    "valid_days = [f'{i:02}' for i in range(1, 31)]\n",
    "\n",
    "df = df[df['HIJRI_MONTH'].isin(valid_months)]\n",
    "df = df[df['HIJRI_DAY'].isin(valid_days)]"
   ]
  },
  {
   "cell_type": "code",
   "execution_count": 6,
   "id": "35a56523-5d85-4e59-a4e3-634db789f73e",
   "metadata": {},
   "outputs": [],
   "source": [
    "df['Main Event'] = df['Main Event'].fillna('Regular')\n",
    "df['Main Event'] = df['Main Event'].replace('', 'Regular')  # In case of empty strings"
   ]
  },
  {
   "cell_type": "code",
   "execution_count": 7,
   "id": "3f38d230-ebbb-4ad3-bfd1-b5351defbf0b",
   "metadata": {},
   "outputs": [],
   "source": [
    "# Tag Ramadan\n",
    "df['Is_Ramadan'] = (df['HIJRI_MONTH'] == '09').astype(int)\n",
    "\n",
    "# Tag Eid al-Fitr (1st of Shawwal)\n",
    "df['Is_Eid_Fitr'] = ((df['HIJRI_MONTH'] == '10') & (df['HIJRI_DAY'] == '01')).astype(int)\n",
    "\n",
    "# Tag Eid al-Adha (10th of Dhu al-Hijjah)\n",
    "df['Is_Eid_Adha'] = ((df['HIJRI_MONTH'] == '12') & (df['HIJRI_DAY'] == '10')).astype(int)\n"
   ]
  },
  {
   "cell_type": "code",
   "execution_count": 8,
   "id": "7a6e9ac5-a8c8-4f9d-9d8d-5079a781f962",
   "metadata": {},
   "outputs": [
    {
     "data": {
      "text/html": [
       "<div>\n",
       "<style scoped>\n",
       "    .dataframe tbody tr th:only-of-type {\n",
       "        vertical-align: middle;\n",
       "    }\n",
       "\n",
       "    .dataframe tbody tr th {\n",
       "        vertical-align: top;\n",
       "    }\n",
       "\n",
       "    .dataframe thead th {\n",
       "        text-align: right;\n",
       "    }\n",
       "</style>\n",
       "<table border=\"1\" class=\"dataframe\">\n",
       "  <thead>\n",
       "    <tr style=\"text-align: right;\">\n",
       "      <th></th>\n",
       "      <th>CAL_YEAR</th>\n",
       "      <th>CAL_DATE</th>\n",
       "      <th>HIJRI_DATE</th>\n",
       "      <th>CATEGORY_CODE</th>\n",
       "      <th>CATEGORY_DESC</th>\n",
       "      <th>CHANNEL_NAME</th>\n",
       "      <th>SALES_AMOUNT</th>\n",
       "      <th>Main Event</th>\n",
       "      <th>Category_Channel</th>\n",
       "      <th>HIJRI_MONTH</th>\n",
       "      <th>HIJRI_DAY</th>\n",
       "      <th>Is_Ramadan</th>\n",
       "      <th>Is_Eid_Fitr</th>\n",
       "      <th>Is_Eid_Adha</th>\n",
       "    </tr>\n",
       "  </thead>\n",
       "  <tbody>\n",
       "    <tr>\n",
       "      <th>0</th>\n",
       "      <td>2022</td>\n",
       "      <td>2022-01-01</td>\n",
       "      <td>1443-05-28</td>\n",
       "      <td>1</td>\n",
       "      <td>ELECTRONICS</td>\n",
       "      <td>Brick and Mortar</td>\n",
       "      <td>1.449489e+06</td>\n",
       "      <td>End Of Year</td>\n",
       "      <td>1_Brick and Mortar</td>\n",
       "      <td>05</td>\n",
       "      <td>28</td>\n",
       "      <td>0</td>\n",
       "      <td>0</td>\n",
       "      <td>0</td>\n",
       "    </tr>\n",
       "    <tr>\n",
       "      <th>1</th>\n",
       "      <td>2022</td>\n",
       "      <td>2022-01-01</td>\n",
       "      <td>1443-05-28</td>\n",
       "      <td>102</td>\n",
       "      <td>MUSICAL INSTRUMENTS</td>\n",
       "      <td>Brick and Mortar</td>\n",
       "      <td>5.208700e+03</td>\n",
       "      <td>End Of Year</td>\n",
       "      <td>102_Brick and Mortar</td>\n",
       "      <td>05</td>\n",
       "      <td>28</td>\n",
       "      <td>0</td>\n",
       "      <td>0</td>\n",
       "      <td>0</td>\n",
       "    </tr>\n",
       "    <tr>\n",
       "      <th>2</th>\n",
       "      <td>2022</td>\n",
       "      <td>2022-01-01</td>\n",
       "      <td>1443-05-28</td>\n",
       "      <td>102</td>\n",
       "      <td>MUSICAL INSTRUMENTS</td>\n",
       "      <td>E-Commerce</td>\n",
       "      <td>2.141739e+03</td>\n",
       "      <td>End Of Year</td>\n",
       "      <td>102_E-Commerce</td>\n",
       "      <td>05</td>\n",
       "      <td>28</td>\n",
       "      <td>0</td>\n",
       "      <td>0</td>\n",
       "      <td>0</td>\n",
       "    </tr>\n",
       "    <tr>\n",
       "      <th>3</th>\n",
       "      <td>2022</td>\n",
       "      <td>2022-01-01</td>\n",
       "      <td>1443-05-28</td>\n",
       "      <td>102</td>\n",
       "      <td>MUSICAL INSTRUMENTS</td>\n",
       "      <td>Noon</td>\n",
       "      <td>3.900000e+03</td>\n",
       "      <td>End Of Year</td>\n",
       "      <td>102_Noon</td>\n",
       "      <td>05</td>\n",
       "      <td>28</td>\n",
       "      <td>0</td>\n",
       "      <td>0</td>\n",
       "      <td>0</td>\n",
       "    </tr>\n",
       "    <tr>\n",
       "      <th>4</th>\n",
       "      <td>2022</td>\n",
       "      <td>2022-01-01</td>\n",
       "      <td>1443-05-28</td>\n",
       "      <td>105</td>\n",
       "      <td>HOME AUTOMATION</td>\n",
       "      <td>Brick and Mortar</td>\n",
       "      <td>6.036184e+04</td>\n",
       "      <td>End Of Year</td>\n",
       "      <td>105_Brick and Mortar</td>\n",
       "      <td>05</td>\n",
       "      <td>28</td>\n",
       "      <td>0</td>\n",
       "      <td>0</td>\n",
       "      <td>0</td>\n",
       "    </tr>\n",
       "  </tbody>\n",
       "</table>\n",
       "</div>"
      ],
      "text/plain": [
       "   CAL_YEAR   CAL_DATE  HIJRI_DATE  CATEGORY_CODE        CATEGORY_DESC  \\\n",
       "0      2022 2022-01-01  1443-05-28              1          ELECTRONICS   \n",
       "1      2022 2022-01-01  1443-05-28            102  MUSICAL INSTRUMENTS   \n",
       "2      2022 2022-01-01  1443-05-28            102  MUSICAL INSTRUMENTS   \n",
       "3      2022 2022-01-01  1443-05-28            102  MUSICAL INSTRUMENTS   \n",
       "4      2022 2022-01-01  1443-05-28            105      HOME AUTOMATION   \n",
       "\n",
       "       CHANNEL_NAME  SALES_AMOUNT   Main Event      Category_Channel  \\\n",
       "0  Brick and Mortar  1.449489e+06  End Of Year    1_Brick and Mortar   \n",
       "1  Brick and Mortar  5.208700e+03  End Of Year  102_Brick and Mortar   \n",
       "2        E-Commerce  2.141739e+03  End Of Year        102_E-Commerce   \n",
       "3              Noon  3.900000e+03  End Of Year              102_Noon   \n",
       "4  Brick and Mortar  6.036184e+04  End Of Year  105_Brick and Mortar   \n",
       "\n",
       "  HIJRI_MONTH HIJRI_DAY  Is_Ramadan  Is_Eid_Fitr  Is_Eid_Adha  \n",
       "0          05        28           0            0            0  \n",
       "1          05        28           0            0            0  \n",
       "2          05        28           0            0            0  \n",
       "3          05        28           0            0            0  \n",
       "4          05        28           0            0            0  "
      ]
     },
     "execution_count": 8,
     "metadata": {},
     "output_type": "execute_result"
    }
   ],
   "source": [
    "df.head()"
   ]
  },
  {
   "cell_type": "code",
   "execution_count": 9,
   "id": "e0fe1699-021b-43ed-ba10-9cc0bb9e6ebb",
   "metadata": {},
   "outputs": [],
   "source": [
    "df_cleaned = df[df['SALES_AMOUNT'] > 1000]    "
   ]
  },
  {
   "cell_type": "code",
   "execution_count": 10,
   "id": "e4f7040a-ccad-480b-aa3d-97b927a9092e",
   "metadata": {},
   "outputs": [
    {
     "name": "stdout",
     "output_type": "stream",
     "text": [
      "Before: 51973\n",
      "After : 41551\n",
      "Removed: 10422\n"
     ]
    }
   ],
   "source": [
    "print(\"Before:\", len(df))\n",
    "print(\"After :\", len(df_cleaned))\n",
    "print(\"Removed:\", len(df) - len(df_cleaned))\n"
   ]
  },
  {
   "cell_type": "code",
   "execution_count": 11,
   "id": "e9fe01ca-c887-4f19-b605-abb918ede507",
   "metadata": {},
   "outputs": [
    {
     "name": "stderr",
     "output_type": "stream",
     "text": [
      "C:\\Users\\mloai\\AppData\\Local\\Temp\\ipykernel_15884\\3865393087.py:6: SettingWithCopyWarning: \n",
      "A value is trying to be set on a copy of a slice from a DataFrame.\n",
      "Try using .loc[row_indexer,col_indexer] = value instead\n",
      "\n",
      "See the caveats in the documentation: https://pandas.pydata.org/pandas-docs/stable/user_guide/indexing.html#returning-a-view-versus-a-copy\n",
      "  df_cleaned['LOG_SALES'] = np.log1p(df_cleaned['SALES_AMOUNT'])\n"
     ]
    },
    {
     "data": {
      "image/png": "[encoded data removed]",
      "text/plain": [
       "<Figure size 640x480 with 1 Axes>"
      ]
     },
     "metadata": {},
     "output_type": "display_data"
    }
   ],
   "source": [
    "import seaborn as sns\n",
    "import matplotlib.pyplot as plt\n",
    "\n",
    "# Optional: apply log transform again\n",
    "import numpy as np\n",
    "df_cleaned['LOG_SALES'] = np.log1p(df_cleaned['SALES_AMOUNT'])\n",
    "\n",
    "# Plot boxplot after cleaning\n",
    "sns.boxplot(x=df_cleaned['LOG_SALES'])\n",
    "plt.title(\"Boxplot of Log-Transformed SALES_AMOUNT (after removing ≤ 1000)\")\n",
    "plt.show()\n"
   ]
  },
  {
   "cell_type": "code",
   "execution_count": 12,
   "id": "aa749374-482c-4349-9d5e-dda6c653b020",
   "metadata": {},
   "outputs": [
    {
     "name": "stderr",
     "output_type": "stream",
     "text": [
      "C:\\Users\\mloai\\NewConda\\Lib\\site-packages\\seaborn\\_oldcore.py:1119: FutureWarning: use_inf_as_na option is deprecated and will be removed in a future version. Convert inf values to NaN before operating instead.\n",
      "  with pd.option_context('mode.use_inf_as_na', True):\n"
     ]
    },
    {
     "data": {
      "image/png": "[encoded data removed]",
      "text/plain": [
       "<Figure size 640x480 with 1 Axes>"
      ]
     },
     "metadata": {},
     "output_type": "display_data"
    }
   ],
   "source": [
    "sns.histplot(df_cleaned['SALES_AMOUNT'], bins=50)\n",
    "plt.title(\"Distribution of Cleaned SALES_AMOUNT\")\n",
    "plt.show()\n"
   ]
  },
  {
   "cell_type": "code",
   "execution_count": 13,
   "id": "bbad1d37-be5c-46ce-8bd5-89c4d13edfc6",
   "metadata": {},
   "outputs": [
    {
     "data": {
      "text/html": [
       "<div>\n",
       "<style scoped>\n",
       "    .dataframe tbody tr th:only-of-type {\n",
       "        vertical-align: middle;\n",
       "    }\n",
       "\n",
       "    .dataframe tbody tr th {\n",
       "        vertical-align: top;\n",
       "    }\n",
       "\n",
       "    .dataframe thead th {\n",
       "        text-align: right;\n",
       "    }\n",
       "</style>\n",
       "<table border=\"1\" class=\"dataframe\">\n",
       "  <thead>\n",
       "    <tr style=\"text-align: right;\">\n",
       "      <th></th>\n",
       "      <th>CAL_YEAR</th>\n",
       "      <th>CAL_DATE</th>\n",
       "      <th>HIJRI_DATE</th>\n",
       "      <th>CATEGORY_CODE</th>\n",
       "      <th>CATEGORY_DESC</th>\n",
       "      <th>CHANNEL_NAME</th>\n",
       "      <th>SALES_AMOUNT</th>\n",
       "      <th>Main Event</th>\n",
       "      <th>Category_Channel</th>\n",
       "      <th>HIJRI_MONTH</th>\n",
       "      <th>HIJRI_DAY</th>\n",
       "      <th>Is_Ramadan</th>\n",
       "      <th>Is_Eid_Fitr</th>\n",
       "      <th>Is_Eid_Adha</th>\n",
       "      <th>LOG_SALES</th>\n",
       "    </tr>\n",
       "  </thead>\n",
       "  <tbody>\n",
       "  </tbody>\n",
       "</table>\n",
       "</div>"
      ],
      "text/plain": [
       "Empty DataFrame\n",
       "Columns: [CAL_YEAR, CAL_DATE, HIJRI_DATE, CATEGORY_CODE, CATEGORY_DESC, CHANNEL_NAME, SALES_AMOUNT, Main Event, Category_Channel, HIJRI_MONTH, HIJRI_DAY, Is_Ramadan, Is_Eid_Fitr, Is_Eid_Adha, LOG_SALES]\n",
       "Index: []"
      ]
     },
     "execution_count": 13,
     "metadata": {},
     "output_type": "execute_result"
    }
   ],
   "source": [
    "df_cleaned[df_cleaned['SALES_AMOUNT'] == 0]"
   ]
  },
  {
   "cell_type": "code",
   "execution_count": 14,
   "id": "a4c545c3-a247-4e92-be32-32519b65b0a3",
   "metadata": {},
   "outputs": [
    {
     "data": {
      "text/plain": [
       "0"
      ]
     },
     "execution_count": 14,
     "metadata": {},
     "output_type": "execute_result"
    }
   ],
   "source": [
    "df_cleaned.duplicated().sum()\n"
   ]
  },
  {
   "cell_type": "code",
   "execution_count": 15,
   "id": "77ec65fe-9ef7-428e-bfae-5222452d7267",
   "metadata": {},
   "outputs": [
    {
     "data": {
      "text/plain": [
       "CAL_YEAR            0\n",
       "CAL_DATE            0\n",
       "HIJRI_DATE          0\n",
       "CATEGORY_CODE       0\n",
       "CATEGORY_DESC       0\n",
       "CHANNEL_NAME        0\n",
       "SALES_AMOUNT        0\n",
       "Main Event          0\n",
       "Category_Channel    0\n",
       "HIJRI_MONTH         0\n",
       "HIJRI_DAY           0\n",
       "Is_Ramadan          0\n",
       "Is_Eid_Fitr         0\n",
       "Is_Eid_Adha         0\n",
       "LOG_SALES           0\n",
       "dtype: int64"
      ]
     },
     "execution_count": 15,
     "metadata": {},
     "output_type": "execute_result"
    }
   ],
   "source": [
    "df_cleaned.isnull().sum()\n"
   ]
  },
  {
   "cell_type": "code",
   "execution_count": 16,
   "id": "8e1b733a-a157-4779-8984-7a08fd17f976",
   "metadata": {},
   "outputs": [
    {
     "data": {
      "text/plain": [
       "CAL_DATE\n",
       "0 days    40310\n",
       "1 days     1240\n",
       "Name: count, dtype: int64"
      ]
     },
     "execution_count": 16,
     "metadata": {},
     "output_type": "execute_result"
    }
   ],
   "source": [
    "df_cleaned['CAL_DATE'].sort_values().diff().value_counts()\n"
   ]
  },
  {
   "cell_type": "raw",
   "id": "da24c1d5-2bf4-4bc7-8c1e-3f7e7ca25874",
   "metadata": {},
   "source": [
    "df_cleaned['Category_Channel'] = df_cleaned['CATEGORY_CODE'].astype(str) + '_' + df_cleaned['CHANNEL_NAME']"
   ]
  },
  {
   "cell_type": "code",
   "execution_count": 17,
   "id": "92d6d07f-8d4a-488f-b738-f7d0ce5d77cf",
   "metadata": {},
   "outputs": [
    {
     "data": {
      "text/html": [
       "<div>\n",
       "<style scoped>\n",
       "    .dataframe tbody tr th:only-of-type {\n",
       "        vertical-align: middle;\n",
       "    }\n",
       "\n",
       "    .dataframe tbody tr th {\n",
       "        vertical-align: top;\n",
       "    }\n",
       "\n",
       "    .dataframe thead th {\n",
       "        text-align: right;\n",
       "    }\n",
       "</style>\n",
       "<table border=\"1\" class=\"dataframe\">\n",
       "  <thead>\n",
       "    <tr style=\"text-align: right;\">\n",
       "      <th></th>\n",
       "      <th>CAL_YEAR</th>\n",
       "      <th>CAL_DATE</th>\n",
       "      <th>HIJRI_DATE</th>\n",
       "      <th>CATEGORY_CODE</th>\n",
       "      <th>CATEGORY_DESC</th>\n",
       "      <th>CHANNEL_NAME</th>\n",
       "      <th>SALES_AMOUNT</th>\n",
       "      <th>Main Event</th>\n",
       "      <th>Category_Channel</th>\n",
       "      <th>HIJRI_MONTH</th>\n",
       "      <th>HIJRI_DAY</th>\n",
       "      <th>Is_Ramadan</th>\n",
       "      <th>Is_Eid_Fitr</th>\n",
       "      <th>Is_Eid_Adha</th>\n",
       "      <th>LOG_SALES</th>\n",
       "    </tr>\n",
       "  </thead>\n",
       "  <tbody>\n",
       "    <tr>\n",
       "      <th>0</th>\n",
       "      <td>2022</td>\n",
       "      <td>2022-01-01</td>\n",
       "      <td>1443-05-28</td>\n",
       "      <td>1</td>\n",
       "      <td>ELECTRONICS</td>\n",
       "      <td>Brick and Mortar</td>\n",
       "      <td>1.449489e+06</td>\n",
       "      <td>End Of Year</td>\n",
       "      <td>1_Brick and Mortar</td>\n",
       "      <td>05</td>\n",
       "      <td>28</td>\n",
       "      <td>0</td>\n",
       "      <td>0</td>\n",
       "      <td>0</td>\n",
       "      <td>14.186722</td>\n",
       "    </tr>\n",
       "    <tr>\n",
       "      <th>1</th>\n",
       "      <td>2022</td>\n",
       "      <td>2022-01-01</td>\n",
       "      <td>1443-05-28</td>\n",
       "      <td>102</td>\n",
       "      <td>MUSICAL INSTRUMENTS</td>\n",
       "      <td>Brick and Mortar</td>\n",
       "      <td>5.208700e+03</td>\n",
       "      <td>End Of Year</td>\n",
       "      <td>102_Brick and Mortar</td>\n",
       "      <td>05</td>\n",
       "      <td>28</td>\n",
       "      <td>0</td>\n",
       "      <td>0</td>\n",
       "      <td>0</td>\n",
       "      <td>8.558278</td>\n",
       "    </tr>\n",
       "    <tr>\n",
       "      <th>2</th>\n",
       "      <td>2022</td>\n",
       "      <td>2022-01-01</td>\n",
       "      <td>1443-05-28</td>\n",
       "      <td>102</td>\n",
       "      <td>MUSICAL INSTRUMENTS</td>\n",
       "      <td>E-Commerce</td>\n",
       "      <td>2.141739e+03</td>\n",
       "      <td>End Of Year</td>\n",
       "      <td>102_E-Commerce</td>\n",
       "      <td>05</td>\n",
       "      <td>28</td>\n",
       "      <td>0</td>\n",
       "      <td>0</td>\n",
       "      <td>0</td>\n",
       "      <td>7.669840</td>\n",
       "    </tr>\n",
       "    <tr>\n",
       "      <th>3</th>\n",
       "      <td>2022</td>\n",
       "      <td>2022-01-01</td>\n",
       "      <td>1443-05-28</td>\n",
       "      <td>102</td>\n",
       "      <td>MUSICAL INSTRUMENTS</td>\n",
       "      <td>Noon</td>\n",
       "      <td>3.900000e+03</td>\n",
       "      <td>End Of Year</td>\n",
       "      <td>102_Noon</td>\n",
       "      <td>05</td>\n",
       "      <td>28</td>\n",
       "      <td>0</td>\n",
       "      <td>0</td>\n",
       "      <td>0</td>\n",
       "      <td>8.268988</td>\n",
       "    </tr>\n",
       "    <tr>\n",
       "      <th>4</th>\n",
       "      <td>2022</td>\n",
       "      <td>2022-01-01</td>\n",
       "      <td>1443-05-28</td>\n",
       "      <td>105</td>\n",
       "      <td>HOME AUTOMATION</td>\n",
       "      <td>Brick and Mortar</td>\n",
       "      <td>6.036184e+04</td>\n",
       "      <td>End Of Year</td>\n",
       "      <td>105_Brick and Mortar</td>\n",
       "      <td>05</td>\n",
       "      <td>28</td>\n",
       "      <td>0</td>\n",
       "      <td>0</td>\n",
       "      <td>0</td>\n",
       "      <td>11.008129</td>\n",
       "    </tr>\n",
       "  </tbody>\n",
       "</table>\n",
       "</div>"
      ],
      "text/plain": [
       "   CAL_YEAR   CAL_DATE  HIJRI_DATE  CATEGORY_CODE        CATEGORY_DESC  \\\n",
       "0      2022 2022-01-01  1443-05-28              1          ELECTRONICS   \n",
       "1      2022 2022-01-01  1443-05-28            102  MUSICAL INSTRUMENTS   \n",
       "2      2022 2022-01-01  1443-05-28            102  MUSICAL INSTRUMENTS   \n",
       "3      2022 2022-01-01  1443-05-28            102  MUSICAL INSTRUMENTS   \n",
       "4      2022 2022-01-01  1443-05-28            105      HOME AUTOMATION   \n",
       "\n",
       "       CHANNEL_NAME  SALES_AMOUNT   Main Event      Category_Channel  \\\n",
       "0  Brick and Mortar  1.449489e+06  End Of Year    1_Brick and Mortar   \n",
       "1  Brick and Mortar  5.208700e+03  End Of Year  102_Brick and Mortar   \n",
       "2        E-Commerce  2.141739e+03  End Of Year        102_E-Commerce   \n",
       "3              Noon  3.900000e+03  End Of Year              102_Noon   \n",
       "4  Brick and Mortar  6.036184e+04  End Of Year  105_Brick and Mortar   \n",
       "\n",
       "  HIJRI_MONTH HIJRI_DAY  Is_Ramadan  Is_Eid_Fitr  Is_Eid_Adha  LOG_SALES  \n",
       "0          05        28           0            0            0  14.186722  \n",
       "1          05        28           0            0            0   8.558278  \n",
       "2          05        28           0            0            0   7.669840  \n",
       "3          05        28           0            0            0   8.268988  \n",
       "4          05        28           0            0            0  11.008129  "
      ]
     },
     "execution_count": 17,
     "metadata": {},
     "output_type": "execute_result"
    }
   ],
   "source": [
    "df_cleaned.head()"
   ]
  },
  {
   "cell_type": "code",
   "execution_count": 18,
   "id": "44f2fe61-9ec6-416d-8f6e-039b98845e8c",
   "metadata": {},
   "outputs": [],
   "source": [
    "# Step 5: Group by CAL_DATE, CATEGORY_DESC, CHANNEL_NAME, and Main Event\n",
    "group_cols = ['CAL_DATE','HIJRI_DATE', 'Main Event','Category_Channel']\n",
    "df_grouped = df_cleaned.groupby(group_cols, as_index=False)['LOG_SALES'].sum()"
   ]
  },
  {
   "cell_type": "code",
   "execution_count": 19,
   "id": "a66a21a1-f851-4bad-81c0-818c52e1cba6",
   "metadata": {},
   "outputs": [
    {
     "data": {
      "text/html": [
       "<div>\n",
       "<style scoped>\n",
       "    .dataframe tbody tr th:only-of-type {\n",
       "        vertical-align: middle;\n",
       "    }\n",
       "\n",
       "    .dataframe tbody tr th {\n",
       "        vertical-align: top;\n",
       "    }\n",
       "\n",
       "    .dataframe thead th {\n",
       "        text-align: right;\n",
       "    }\n",
       "</style>\n",
       "<table border=\"1\" class=\"dataframe\">\n",
       "  <thead>\n",
       "    <tr style=\"text-align: right;\">\n",
       "      <th></th>\n",
       "      <th>CAL_DATE</th>\n",
       "      <th>HIJRI_DATE</th>\n",
       "      <th>Main Event</th>\n",
       "      <th>Category_Channel</th>\n",
       "      <th>LOG_SALES</th>\n",
       "    </tr>\n",
       "  </thead>\n",
       "  <tbody>\n",
       "    <tr>\n",
       "      <th>0</th>\n",
       "      <td>2022-01-01</td>\n",
       "      <td>1443-05-28</td>\n",
       "      <td>End Of Year</td>\n",
       "      <td>102_Brick and Mortar</td>\n",
       "      <td>8.558278</td>\n",
       "    </tr>\n",
       "    <tr>\n",
       "      <th>1</th>\n",
       "      <td>2022-01-01</td>\n",
       "      <td>1443-05-28</td>\n",
       "      <td>End Of Year</td>\n",
       "      <td>102_E-Commerce</td>\n",
       "      <td>7.669840</td>\n",
       "    </tr>\n",
       "    <tr>\n",
       "      <th>2</th>\n",
       "      <td>2022-01-01</td>\n",
       "      <td>1443-05-28</td>\n",
       "      <td>End Of Year</td>\n",
       "      <td>102_Noon</td>\n",
       "      <td>8.268988</td>\n",
       "    </tr>\n",
       "    <tr>\n",
       "      <th>3</th>\n",
       "      <td>2022-01-01</td>\n",
       "      <td>1443-05-28</td>\n",
       "      <td>End Of Year</td>\n",
       "      <td>105_Brick and Mortar</td>\n",
       "      <td>11.008129</td>\n",
       "    </tr>\n",
       "    <tr>\n",
       "      <th>4</th>\n",
       "      <td>2022-01-01</td>\n",
       "      <td>1443-05-28</td>\n",
       "      <td>End Of Year</td>\n",
       "      <td>105_E-Commerce</td>\n",
       "      <td>10.310405</td>\n",
       "    </tr>\n",
       "  </tbody>\n",
       "</table>\n",
       "</div>"
      ],
      "text/plain": [
       "    CAL_DATE  HIJRI_DATE   Main Event      Category_Channel  LOG_SALES\n",
       "0 2022-01-01  1443-05-28  End Of Year  102_Brick and Mortar   8.558278\n",
       "1 2022-01-01  1443-05-28  End Of Year        102_E-Commerce   7.669840\n",
       "2 2022-01-01  1443-05-28  End Of Year              102_Noon   8.268988\n",
       "3 2022-01-01  1443-05-28  End Of Year  105_Brick and Mortar  11.008129\n",
       "4 2022-01-01  1443-05-28  End Of Year        105_E-Commerce  10.310405"
      ]
     },
     "execution_count": 19,
     "metadata": {},
     "output_type": "execute_result"
    }
   ],
   "source": [
    "df_grouped.head()"
   ]
  },
  {
   "cell_type": "code",
   "execution_count": 20,
   "id": "5aab71c9-7768-4457-8d95-2cf2cebbb3f1",
   "metadata": {},
   "outputs": [],
   "source": [
    "# Step 6: Merge holiday flags back into grouped data\n",
    "holiday_flags = df_cleaned[['CAL_DATE', 'Is_Ramadan', 'Is_Eid_Fitr', 'Is_Eid_Adha']].drop_duplicates()\n",
    "df_final = pd.merge(df_grouped, holiday_flags, on='CAL_DATE', how='left')"
   ]
  },
  {
   "cell_type": "code",
   "execution_count": 21,
   "id": "5ffa29d0-06f5-4209-b949-198e759c9480",
   "metadata": {},
   "outputs": [
    {
     "name": "stdout",
     "output_type": "stream",
     "text": [
      "✅ Preprocessing complete. Output saved as 'processed_sales.csv'\n"
     ]
    }
   ],
   "source": [
    "# Step 7: Export processed file\n",
    "df_final.to_csv(\"processed_sales.csv\", index=False)\n",
    "\n",
    "print(\"✅ Preprocessing complete. Output saved as 'processed_sales.csv'\")"
   ]
  },
  {
   "cell_type": "code",
   "execution_count": null,
   "id": "c99785ff-d449-4885-a238-4a4ce64b0868",
   "metadata": {},
   "outputs": [],
   "source": []
  },
  {
   "cell_type": "code",
   "execution_count": null,
   "id": "a6500b70-b76e-42cd-80d4-09fea2e95f6f",
   "metadata": {},
   "outputs": [],
   "source": []
  },
  {
   "cell_type": "code",
   "execution_count": null,
   "id": "eec6a80b-98b8-4241-96c1-a9727d1f4a96",
   "metadata": {},
   "outputs": [],
   "source": []
  }
 ],
 "metadata": {
  "kernelspec": {
   "display_name": "Python [conda env:base] *",
   "language": "python",
   "name": "conda-base-py"
  },
  "language_info": {
   "codemirror_mode": {
    "name": "ipython",
    "version": 3
   },
   "file_extension": ".py",
   "mimetype": "text/x-python",
   "name": "python",
   "nbconvert_exporter": "python",
   "pygments_lexer": "ipython3",
   "version": "3.11.7"
  }
 },
 "nbformat": 4,
 "nbformat_minor": 5
}
